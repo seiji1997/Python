{
 "cells": [
  {
   "cell_type": "markdown",
   "id": "09804ff1-88ba-490a-bdfc-a30d6895a18c",
   "metadata": {
    "editable": true,
    "slideshow": {
     "slide_type": ""
    },
    "tags": []
   },
   "source": [
    "# Class"
   ]
  },
  {
   "cell_type": "markdown",
   "id": "08c70a39-9637-49d3-b4c0-d35612188b23",
   "metadata": {},
   "source": [
    "オブジェクト指向において、最も基本的な仕組みはクラスである\n",
    "- 機能: 「カプセル化」と「インスタンス（オブジェクト）の生成」"
   ]
  },
  {
   "cell_type": "markdown",
   "id": "11144b8d-382e-4a97-b9e8-330ee1ce9173",
   "metadata": {},
   "source": [
    "## カプセル化\n",
    "機能：　変数と関数をまとめた上で外部に公開する情報を制限する<br>\n",
    "　　　　　　　　　　-> Class = プログラムを整理整頓する"
   ]
  },
  {
   "cell_type": "markdown",
   "id": "0e6c33cf-21e5-4ae0-a595-d463fd09ad9c",
   "metadata": {},
   "source": [
    "### グローバル変数問題\n",
    "プライベート変数(クラスの中からしかアクセスできない)を利用することで、複数の関数（areaとlength）で利用する必要のある変数（pi）を、グローバル変数として保持しない。\n",
    "\n",
    "piという変数は、areaとlengthという2つのメソッドでのみ使用される変数なので、この2つのメソッド以外からはアクセス出来ないようにした方が保守性が高くなる。\n",
    "→　クラス変数をクラスの中（のメソッド）からしか呼び出せないようにするには、　　「__クラス変数名」というように書く（クラス変数名の前にアンダーバーを2つ書く）\n",
    "\n",
    "変数と関数をクラスによってまとめると次のようなメリットがある\n",
    "- 変数と関数をまとめて、意味のある1つの部品にすることができる\n",
    "- 変数や関数の名前がシンプルになる"
   ]
  },
  {
   "cell_type": "markdown",
   "id": "fd3fbe0f-b656-49a9-9681-8d70404bdc16",
   "metadata": {},
   "source": [
    "### before"
   ]
  },
  {
   "cell_type": "code",
   "execution_count": 6,
   "id": "30d9bb79-d3b5-4261-8f29-4a3b2701e0fd",
   "metadata": {},
   "outputs": [
    {
     "data": {
      "text/plain": [
       "6.28"
      ]
     },
     "execution_count": 6,
     "metadata": {},
     "output_type": "execute_result"
    }
   ],
   "source": [
    "# exp.： Function to find the length and area of the circumference of a circle when passing the radius\n",
    "pi = 3.14 #円周率\n",
    "\n",
    "def circle_length(r):\n",
    "  return r * 2 * pi\n",
    "\n",
    "def circle_area(r):\n",
    "  return r * r * pi\n",
    "\n",
    "circle_length(1) #メソッドの呼び出し"
   ]
  },
  {
   "cell_type": "markdown",
   "id": "c97e557d-e222-4f48-8f33-2bd661f3a806",
   "metadata": {},
   "source": [
    "### after"
   ]
  },
  {
   "cell_type": "code",
   "execution_count": 4,
   "id": "b8b03636-a4a5-4279-84a7-3f2d6d07f8c9",
   "metadata": {},
   "outputs": [
    {
     "data": {
      "text/plain": [
       "6.28"
      ]
     },
     "execution_count": 4,
     "metadata": {},
     "output_type": "execute_result"
    }
   ],
   "source": [
    "class Circle:\n",
    "    __pi = 3.14 #クラスの中のメソッドからしか呼び出せない\n",
    "\n",
    "    def length(self, r):\n",
    "        return r * 2 * Circle.__pi\n",
    "\n",
    "    def area(self, r):\n",
    "        return r * r * Circle.__pi\n",
    "\n",
    "#print(Circle.__pi) #クラス変数の呼び出し\n",
    "Circle().length(1) #メソッドの呼び出し"
   ]
  },
  {
   "cell_type": "markdown",
   "id": "dc70bb3e-ea0c-4d48-82cd-469e30395f6a",
   "metadata": {},
   "source": [
    "# インスタンス（オブジェクト）の生成"
   ]
  },
  {
   "cell_type": "markdown",
   "id": "9b36f2de-3016-4535-a29c-d8844ed93983",
   "metadata": {},
   "source": [
    "クラスからはインスタンス（オブジェクト）を作ることができる<br>\n",
    "\n",
    "- class->　分類、種類：　（Human）<br>\n",
    "- instance->　実例、具体的なもの：　（Jon, Alina）<br>\n",
    "\n",
    "You can create instances (examples) like Jon and Alina from the class (Classification) called Human.<br>\n",
    "A class is a collection of variables and methods grouped as a meaningful unit.<br>\n",
    "\n",
    "For example,<br>\n",
    "humans have <br>\n",
    "variables like \"name,\" \"age,\" and \"hometown,\" <br>\n",
    "and methods (functions) like \"speak,\" \"walk,\" and \"sleep.\"<br>\n",
    "\n",
    "Therefore, we can consider humans as a class."
   ]
  },
  {
   "cell_type": "code",
   "execution_count": 17,
   "id": "cd8b00be-3273-4c12-afd1-2377c30be6f8",
   "metadata": {},
   "outputs": [
    {
     "name": "stdout",
     "output_type": "stream",
     "text": [
      "I'm Jon. 20years old\n"
     ]
    }
   ],
   "source": [
    "class Human:\n",
    "    # クラス変数\n",
    "    name = \"\"\n",
    "    age = 0\n",
    "    born = \"\"\n",
    "    \n",
    "    def talk(self):\n",
    "        print(\"I'm \" + self.name + \". \" + str(self.age) + \"years old\")\n",
    "    \n",
    "    def walk(self):\n",
    "        print(\"walk\")\n",
    "    \n",
    "    def sleep(self):\n",
    "        print(\"sleep\")\n",
    "\n",
    "#インスタンスの生成\n",
    "taro = Human() \n",
    "\n",
    "#インスタンス変数の定義\n",
    "taro.name = \"Jon\" \n",
    "taro.age = 20\n",
    "taro.born = \"Tokyo\"\n",
    "\n",
    "#メソッドの呼び出し\n",
    "taro.talk() "
   ]
  },
  {
   "cell_type": "markdown",
   "id": "59e1d413-f175-47f7-871b-56a75c6211bc",
   "metadata": {},
   "source": [
    "### クラス変数とインスタンス変数の使い分け\n",
    "- クラス変数 -> インスタンスで共通する値（クラス固有の値）を持たせる\n",
    "- インスタンス変数 -> インスタンスごとに異なる値（インスタンス固有の値）を持たせる\n"
   ]
  },
  {
   "cell_type": "markdown",
   "id": "af23c564-17d4-4ee1-b4b3-c32969f736e0",
   "metadata": {},
   "source": [
    "### コンストラクタ\n",
    "\n",
    "メソッドの中にあるselfという引数には、メソッドを呼び出したインスタンスが入る。<br>\n",
    "「Jon.talk()」とメソッドを呼び出すと、selfには「Jon」が入っているので、talk()メソッドの中の「self.name」は「Jon.name」を意味する。 <br>\n",
    " -> 「I'm Jon. 20years old」となる<br>\n",
    " <br>\n",
    "\n",
    "\n",
    " 「taro.インスタンス変数名」と何行か書くことによってインスタンス変数を定義したが、\n",
    "\n",
    "インスタンスごとにこの記述を繰り返すのは面倒\n",
    "\n",
    "→　以下のように書けると楽（インスタンス生成時にまとめて定義）\n",
    "\n",
    "```python\n",
    "taro = Human(\"Jon\", 20, \"Tokyo\")\n",
    "hanako = Human(\"Alina\", 22, \"Moscova\")\n",
    "```\n",
    "\n",
    "コンストラクタ: このような簡単な記述でインスタンス変数を設定するための機能<br>\n",
    "特殊メソッド: コンストラクタのような特別な意味を持つメソッド<br>"
   ]
  },
  {
   "cell_type": "code",
   "execution_count": 23,
   "id": "d244d4b3-f204-4474-9d10-bf057d02e80b",
   "metadata": {},
   "outputs": [
    {
     "name": "stdout",
     "output_type": "stream",
     "text": [
      "I'm Jon. 20years old\n",
      "I'm Alina. 22years old\n"
     ]
    }
   ],
   "source": [
    "class Human:\n",
    "    # コンストラクタ(__init__)はインスタンス生成のタイミングで呼び出される\n",
    "    # 左辺はインスタンス変数、右辺は引数\n",
    "    def __init__(self, name, age, born): \n",
    "        self.name = name\n",
    "        self.age = age\n",
    "        self.born = born\n",
    "\n",
    "    def talk(self):\n",
    "        print(\"I'm \" + self.name + \". \" + str(self.age) + \"years old\")\n",
    "\n",
    "    def walk(self):\n",
    "        print(\"walk\")\n",
    "\n",
    "    def sleep(self):\n",
    "        print(\"sleep\")\n",
    "\n",
    "#インスタンス生成とインスタンス変数の定義\n",
    "Jon = Human(\"Jon\", 20, \"Tokyo\")\n",
    "Alina = Human(\"Alina\", 22, \"Moscova\") \n",
    "\n",
    "#メソッドの呼び出し\n",
    "Jon.talk()\n",
    "Alina.talk() "
   ]
  },
  {
   "cell_type": "code",
   "execution_count": 25,
   "id": "dcaaccbc-09b1-4f1b-b7dc-7f366c0d3e17",
   "metadata": {},
   "outputs": [
    {
     "name": "stdout",
     "output_type": "stream",
     "text": [
      "合計金額は1100円です\n",
      "合計金額は1126円です\n"
     ]
    }
   ],
   "source": [
    "# total amount\n",
    "class Order:\n",
    "  tax = 1.1\n",
    "\n",
    "  def __init__(self, price, count):\n",
    "    self.price = price\n",
    "    self.count = count\n",
    "\n",
    "  def total_price(self):\n",
    "    total = self.price * self.count * Order.tax\n",
    "    total = int(total)\n",
    "    print(\"合計金額は\" + str(total) + \"円です\")\n",
    "\n",
    "#order = Order(price, count)\n",
    "order1 = Order(100, 10)\n",
    "order2 = Order(128, 8)\n",
    "\n",
    "order1.total_price()\n",
    "order2.total_price()"
   ]
  }
 ],
 "metadata": {
  "kernelspec": {
   "display_name": "Python 3 (ipykernel)",
   "language": "python",
   "name": "python3"
  },
  "language_info": {
   "codemirror_mode": {
    "name": "ipython",
    "version": 3
   },
   "file_extension": ".py",
   "mimetype": "text/x-python",
   "name": "python",
   "nbconvert_exporter": "python",
   "pygments_lexer": "ipython3",
   "version": "3.12.2"
  }
 },
 "nbformat": 4,
 "nbformat_minor": 5
}
